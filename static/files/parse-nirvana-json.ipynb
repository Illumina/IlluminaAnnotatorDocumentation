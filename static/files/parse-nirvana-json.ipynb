{
 "cells": [
  {
   "cell_type": "markdown",
   "metadata": {},
   "source": [
    "# Parse Nirvana JSON output in python\n",
    "\n",
    "Nirvana outputs a single JSON annotation file for a single input VCF file. The output file contains a single [JSON object](https://www.w3schools.com/js/js_json_objects.asp) to represent the annotations of all input VCF variants. The JSON file format can be found in the [documentation](https://illumina.github.io/NirvanaDocumentation/file-formats/nirvana-json-file-format).\n",
    "\n",
    "A [sample VCF file](https://github.com/Illumina/NirvanaDocumentation/blob/master/static/files/ceph_trio_test.json.gz) of the CEPH trio (NA12878, NA12891, and NA12892) can be downloaded from the [NirvanaDocumention](https://github.com/Illumina/NirvanaDocumentation/tree/master/static/files) git repo.\n",
    "\n",
    "This notebook demonstrates how you can parse this sample JSON file in python and retrieves the annotation data."
   ]
  },
  {
   "cell_type": "code",
   "execution_count": null,
   "metadata": {},
   "outputs": [],
   "source": []
  }
 ],
 "metadata": {
  "kernelspec": {
   "display_name": "Python 3",
   "language": "python",
   "name": "python3"
  },
  "language_info": {
   "codemirror_mode": {
    "name": "ipython",
    "version": 3
   },
   "file_extension": ".py",
   "mimetype": "text/x-python",
   "name": "python",
   "nbconvert_exporter": "python",
   "pygments_lexer": "ipython3",
   "version": "3.8.5"
  }
 },
 "nbformat": 4,
 "nbformat_minor": 4
}
